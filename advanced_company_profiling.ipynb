# Install deps if needed (uncomment for first run)
#%pip install -r requirements.txt

#%pip install rapidfuzz
#!pip install python-dotenv

import os
import re
from pathlib import Path

import pandas as pd
import numpy as np
import requests
from tqdm import tqdm
from rapidfuzz import fuzz, process
import matplotlib.pyplot as plt

# Optional: read API key from .env if present
try:
    from dotenv import load_dotenv
    load_dotenv()
except Exception:
    pass

DATA_PATH = Path("Company.csv")  # Ensure this file exists in the project root
OUTPUT_DIR = Path("outputs")
OUTPUT_DIR.mkdir(exist_ok=True)

# Companies House API configuration
# Obtain an API key: https://developer.company-information.service.gov.uk/get-started
# Auth: Basic Auth with API key as username, empty password.
COMPANIES_HOUSE_API_KEY = os.getenv("COMPANIES_HOUSE_API_KEY", "")
BASE_URL = "https://api.company-information.service.gov.uk"  # Official base

#session = requests.Session()
session.auth = (COMPANIES_HOUSE_API_KEY, "")

# Load API key from .env file for Companies House API
api_key = os.getenv("COMPANIES_HOUSE_API_KEY")

# Create a persistent session object for making multiple requests
session = requests.Session()

# Configure basic authentication with the API key as username and empty password
# Companies House API requires this authentication format
session.auth = (api_key, "")

print("API key configured:", bool(COMPANIES_HOUSE_API_KEY))
